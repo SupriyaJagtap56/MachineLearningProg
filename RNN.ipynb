{
  "nbformat": 4,
  "nbformat_minor": 0,
  "metadata": {
    "colab": {
      "provenance": [],
      "include_colab_link": true
    },
    "kernelspec": {
      "name": "python3",
      "display_name": "Python 3"
    },
    "language_info": {
      "name": "python"
    }
  },
  "cells": [
    {
      "cell_type": "markdown",
      "metadata": {
        "id": "view-in-github",
        "colab_type": "text"
      },
      "source": [
        "<a href=\"https://colab.research.google.com/github/SupriyaJagtap56/MachineLearningProg/blob/main/RNN.ipynb\" target=\"_parent\"><img src=\"https://colab.research.google.com/assets/colab-badge.svg\" alt=\"Open In Colab\"/></a>"
      ]
    },
    {
      "cell_type": "markdown",
      "source": [
        "Recurrent Neural Networks - page 673"
      ],
      "metadata": {
        "id": "lhC9o9xQ9y6-"
      }
    },
    {
      "cell_type": "code",
      "execution_count": null,
      "metadata": {
        "id": "ZSdmNl_P9Ks9"
      },
      "outputs": [],
      "source": [
        "import numpy as np\n",
        "\n",
        "def generate_time_series(batch_size, n_steps):\n",
        "    freq1, freq2, offsets1, offsets2 = np.random.rand(4, batch_size, 1)\n",
        "    time = np.linspace(0, 1, n_steps)\n",
        "    series = 0.5 * np.sin((time - offsets1) * (freq1 * 10 + 10)) #wave 1\n",
        "    series += 0.2 * np.sin((time - offsets2) * (freq2 * 20 + 20)) # +wave 2\n",
        "    series += 0.1 * (np.random.rand(batch_size, n_steps) - 0.5) # +noise\n",
        "    return series[..., np.newaxis].astype(np.float32)\n"
      ]
    },
    {
      "cell_type": "code",
      "source": [
        "n_steps = 50\n",
        "series = generate_time_series(10000, n_steps + 1)\n",
        "X_train, y_train = series[:7000, :n_steps], series[:7000, -1]\n",
        "X_valid, y_valid = series[7000:9000, :n_steps], series[7000:9000, -1]\n",
        "X_test, y_test = series[9000:, :n_steps], series[9000:, -1]\n"
      ],
      "metadata": {
        "id": "yR6iqBw094kp"
      },
      "execution_count": null,
      "outputs": []
    },
    {
      "cell_type": "code",
      "source": [
        "import keras\n",
        "model = keras.models.Sequential([keras.layers.SimpleRNN(1, input_shape=[None, 1])])"
      ],
      "metadata": {
        "id": "t2m9cgWE-F0W"
      },
      "execution_count": null,
      "outputs": []
    },
    {
      "cell_type": "code",
      "source": [
        "series = generate_time_series(1, n_steps + 10)\n",
        "X_new, Y_new = series[:, :n_steps], series[:, n_steps:]\n",
        "X = X_new\n",
        "for step_ahead in range(10):\n",
        "  y_pred_one = model.predict(X[:, step_ahead:])[:, np.newaxis, :]\n",
        "  X = np.concatenate([X, y_pred_one], axis=1)\n",
        "  Y_pred = X[:, n_steps:]\n",
        "  print(Y_pred)"
      ],
      "metadata": {
        "colab": {
          "base_uri": "https://localhost:8080/"
        },
        "id": "SFfO6sij-SGo",
        "outputId": "c16c97f1-d7ac-4744-d420-4c2018aa1132"
      },
      "execution_count": null,
      "outputs": [
        {
          "output_type": "stream",
          "name": "stdout",
          "text": [
            "1/1 [==============================] - 0s 26ms/step\n",
            "[[[0.8789649]]]\n",
            "1/1 [==============================] - 0s 25ms/step\n",
            "[[[0.8789649 ]\n",
            "  [0.96616024]]]\n",
            "1/1 [==============================] - 0s 23ms/step\n",
            "[[[0.8789649 ]\n",
            "  [0.96616024]\n",
            "  [0.97725624]]]\n",
            "1/1 [==============================] - 0s 26ms/step\n",
            "[[[0.8789649 ]\n",
            "  [0.96616024]\n",
            "  [0.97725624]\n",
            "  [0.978381  ]]]\n",
            "1/1 [==============================] - 0s 23ms/step\n",
            "[[[0.8789649 ]\n",
            "  [0.96616024]\n",
            "  [0.97725624]\n",
            "  [0.978381  ]\n",
            "  [0.97849196]]]\n",
            "1/1 [==============================] - 0s 28ms/step\n",
            "[[[0.8789649 ]\n",
            "  [0.96616024]\n",
            "  [0.97725624]\n",
            "  [0.978381  ]\n",
            "  [0.97849196]\n",
            "  [0.97850287]]]\n",
            "1/1 [==============================] - 0s 26ms/step\n",
            "[[[0.8789649 ]\n",
            "  [0.96616024]\n",
            "  [0.97725624]\n",
            "  [0.978381  ]\n",
            "  [0.97849196]\n",
            "  [0.97850287]\n",
            "  [0.97850376]]]\n",
            "1/1 [==============================] - 0s 29ms/step\n",
            "[[[0.8789649 ]\n",
            "  [0.96616024]\n",
            "  [0.97725624]\n",
            "  [0.978381  ]\n",
            "  [0.97849196]\n",
            "  [0.97850287]\n",
            "  [0.97850376]\n",
            "  [0.9785039 ]]]\n",
            "1/1 [==============================] - 0s 29ms/step\n",
            "[[[0.8789649 ]\n",
            "  [0.96616024]\n",
            "  [0.97725624]\n",
            "  [0.978381  ]\n",
            "  [0.97849196]\n",
            "  [0.97850287]\n",
            "  [0.97850376]\n",
            "  [0.9785039 ]\n",
            "  [0.9785038 ]]]\n",
            "1/1 [==============================] - 0s 25ms/step\n",
            "[[[0.8789649 ]\n",
            "  [0.96616024]\n",
            "  [0.97725624]\n",
            "  [0.978381  ]\n",
            "  [0.97849196]\n",
            "  [0.97850287]\n",
            "  [0.97850376]\n",
            "  [0.9785039 ]\n",
            "  [0.9785038 ]\n",
            "  [0.9785038 ]]]\n"
          ]
        }
      ]
    },
    {
      "cell_type": "code",
      "source": [],
      "metadata": {
        "id": "gYPcAlyS_Gam"
      },
      "execution_count": null,
      "outputs": []
    }
  ]
}