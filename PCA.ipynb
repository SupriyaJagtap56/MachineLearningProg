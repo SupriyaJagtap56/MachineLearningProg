{
  "nbformat": 4,
  "nbformat_minor": 0,
  "metadata": {
    "colab": {
      "provenance": [],
      "include_colab_link": true
    },
    "kernelspec": {
      "name": "python3",
      "display_name": "Python 3"
    },
    "language_info": {
      "name": "python"
    }
  },
  "cells": [
    {
      "cell_type": "markdown",
      "metadata": {
        "id": "view-in-github",
        "colab_type": "text"
      },
      "source": [
        "<a href=\"https://colab.research.google.com/github/SupriyaJagtap56/MachineLearningProg/blob/main/PCA.ipynb\" target=\"_parent\"><img src=\"https://colab.research.google.com/assets/colab-badge.svg\" alt=\"Open In Colab\"/></a>"
      ]
    },
    {
      "cell_type": "markdown",
      "source": [
        "PCA FOR IMAGE COMPRESSION\n"
      ],
      "metadata": {
        "id": "-Q6UdaCA1vjb"
      }
    },
    {
      "cell_type": "code",
      "source": [
        "from google.colab import drive\n",
        "drive.mount('/content/drive')\n"
      ],
      "metadata": {
        "colab": {
          "base_uri": "https://localhost:8080/"
        },
        "id": "yLbPNLZk11k4",
        "outputId": "bb98c9e4-987b-4b76-8a41-b2ef65337993"
      },
      "execution_count": null,
      "outputs": [
        {
          "output_type": "stream",
          "name": "stdout",
          "text": [
            "Mounted at /content/drive\n"
          ]
        }
      ]
    },
    {
      "cell_type": "code",
      "source": [
        "import numpy as np\n",
        "import matplotlib.pyplot as plt\n",
        "from sklearn.decomposition import PCA\n",
        "from sklearn.datasets import fetch_openml\n",
        "mnist=fetch_openml('mnist_784',version=1)"
      ],
      "metadata": {
        "id": "6LKi67k9O9jq",
        "colab": {
          "base_uri": "https://localhost:8080/"
        },
        "outputId": "e9da0fbe-d006-4102-fe29-d120851562c6"
      },
      "execution_count": null,
      "outputs": [
        {
          "output_type": "stream",
          "name": "stderr",
          "text": [
            "/usr/local/lib/python3.10/dist-packages/sklearn/datasets/_openml.py:968: FutureWarning: The default value of `parser` will change from `'liac-arff'` to `'auto'` in 1.4. You can set `parser='auto'` to silence this warning. Therefore, an `ImportError` will be raised from 1.4 if the dataset is dense and pandas is not installed. Note that the pandas parser may return different data types. See the Notes Section in fetch_openml's API doc for details.\n",
            "  warn(\n"
          ]
        }
      ]
    },
    {
      "cell_type": "code",
      "source": [
        "def compress_image(image, n_components):\n",
        "    pixels = image.reshape(-1, 4)\n",
        "\n",
        "    pca = PCA(n_components=n_components)\n",
        "    compressed_pixels = pca.fit_transform(pixels)\n",
        "\n",
        "    reconstructed_pixels = pca.inverse_transform(compressed_pixels)\n",
        "    reconstructed_image = reconstructed_pixels.reshape(image.shape)\n",
        "\n",
        "    return reconstructed_image"
      ],
      "metadata": {
        "id": "pd-UQhbvPAJt"
      },
      "execution_count": null,
      "outputs": []
    },
    {
      "cell_type": "code",
      "execution_count": null,
      "metadata": {
        "colab": {
          "base_uri": "https://localhost:8080/",
          "height": 839
        },
        "id": "3WH6BVbr1hyI",
        "outputId": "eef53aa4-feb5-498c-d368-c848cd249914"
      },
      "outputs": [
        {
          "output_type": "display_data",
          "data": {
            "text/plain": [
              "<Figure size 640x480 with 1 Axes>"
            ],
            "image/png": "[encoded data removed]"
          },
          "metadata": {}
        },
        {
          "output_type": "display_data",
          "data": {
            "text/plain": [
              "<Figure size 640x480 with 1 Axes>"
            ],
            "image/png": "[encoded data removed]"
          },
          "metadata": {}
        }
      ],
      "source": [
        "image_one = mnist['data'].to_numpy()[17]\n",
        "image = image_one.reshape(28,28)\n",
        "\n",
        "plt.figure()\n",
        "plt.title(\"Original Image\")\n",
        "plt.imshow(image)\n",
        "plt.axis(\"off\")\n",
        "plt.show()\n",
        "\n",
        "n_components = 0.85\n",
        "\n",
        "compressed_image = compress_image(image, n_components)\n",
        "\n",
        "plt.figure()\n",
        "plt.title(\"Compressed Image ({} components)\".format(n_components))\n",
        "plt.imshow(compressed_image)\n",
        "plt.axis(\"off\")\n",
        "plt.show()\n"
      ]
    },
    {
      "cell_type": "code",
      "source": [],
      "metadata": {
        "id": "FBd2msiq2XaY"
      },
      "execution_count": null,
      "outputs": []
    }
  ]
}