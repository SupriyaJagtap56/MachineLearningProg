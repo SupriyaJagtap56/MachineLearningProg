{
  "nbformat": 4,
  "nbformat_minor": 0,
  "metadata": {
    "colab": {
      "provenance": [],
      "authorship_tag": "ABX9TyNBSFlbjIISefR+um2jf2Ks",
      "include_colab_link": true
    },
    "kernelspec": {
      "name": "python3",
      "display_name": "Python 3"
    },
    "language_info": {
      "name": "python"
    }
  },
  "cells": [
    {
      "cell_type": "markdown",
      "metadata": {
        "id": "view-in-github",
        "colab_type": "text"
      },
      "source": [
        "<a href=\"https://colab.research.google.com/github/SupriyaJagtap56/MachineLearningProg/blob/main/TextClassification_Lab_seesion.ipynb\" target=\"_parent\"><img src=\"https://colab.research.google.com/assets/colab-badge.svg\" alt=\"Open In Colab\"/></a>"
      ]
    },
    {
      "cell_type": "markdown",
      "source": [
        "Text Classification in Lab session"
      ],
      "metadata": {
        "id": "Q6xKEXxI2GMM"
      }
    },
    {
      "cell_type": "code",
      "source": [
        "import pandas as pd\n",
        "msg=pd.read_csv('/content/dataset.csv',names=['message','label']) #Tabular form data\n",
        "print('Total instances in the dataset:',msg.shape[0])\n",
        "\n",
        "msg['labelnum']=msg.label.map({'pos':1,'neg':0})\n",
        "X=msg.message\n",
        "Y=msg.labelnum\n",
        " \n",
        "print('\\nThe message and its label of first 5 instances are listed below')\n",
        "X5, Y5 = X[0:5], msg.label[0:5]\n",
        "for x, y in zip(X5,Y5):\n",
        "  print(x,',',y)\n",
        " \n",
        "# Splitting the dataset into train and test data\n",
        "from sklearn.model_selection import train_test_split\n",
        "xtrain,xtest,ytrain,ytest=train_test_split(X,Y)\n",
        "print('\\nDataset is split into Training and Testing samples')\n",
        "print('Total training instances :', xtrain.shape[0])\n",
        "print('Total testing instances :', xtest.shape[0])\n",
        " \n",
        "# Output of count vectoriser is a sparse matrix\n",
        "# CountVectorizer - stands for 'feature extraction'\n",
        "from sklearn.feature_extraction.text import CountVectorizer\n",
        "count_vect = CountVectorizer()\n",
        "xtrain_dtm = count_vect.fit_transform(xtrain) #Sparse matrix\n",
        "xtest_dtm = count_vect.transform(xtest)\n",
        "print('\\nTotal features extracted using CountVectorizer:',xtrain_dtm.shape[1])\n",
        " \n",
        "print('\\nFeatures for first 5 training instances are listed below')\n",
        "df=pd.DataFrame(xtrain_dtm.toarray(),columns=count_vect.get_feature_names_out())\n",
        "print(df[0:5])#tabular representation\n",
        "#print(xtrain_dtm) #Same as above but sparse matrix representation\n",
        " \n",
        "# Training Naive Bayes (NB) classifier on training data.\n",
        "from sklearn.naive_bayes import MultinomialNB\n",
        "clf = MultinomialNB().fit(xtrain_dtm,ytrain)\n",
        "predicted = clf.predict(xtest_dtm)\n",
        " \n",
        "print('\\nClassstification results of testing samples are given below')\n",
        "for doc, p in zip(xtest, predicted):\n",
        " pred = 'pos' if p==1 else 'neg'\n",
        " print('%s -> %s ' % (doc, pred))\n",
        " \n",
        "#printing accuracy metrics\n",
        "from sklearn import metrics\n",
        "print('\\nAccuracy metrics')\n",
        "print('Accuracy of the classifer is',metrics.accuracy_score(ytest,predicted))\n",
        " \n",
        "print('Recall :',metrics.recall_score(ytest,predicted),'\\nPrecison :',metrics.precision_score(ytest,predicted))\n",
        "print('Confusion matrix')\n",
        "print(metrics.confusion_matrix(ytest,predicted))"
      ],
      "metadata": {
        "colab": {
          "base_uri": "https://localhost:8080/"
        },
        "id": "FLXLcjj42CW2",
        "outputId": "cab9eff3-3e44-4330-e541-3a457a5c529a"
      },
      "execution_count": null,
      "outputs": [
        {
          "output_type": "stream",
          "name": "stdout",
          "text": [
            "Total instances in the dataset: 18\n",
            "\n",
            "The message and its label of first 5 instances are listed below\n",
            "I love this sandwich , pos\n",
            "This is an amazing place , pos\n",
            "I feel very good about these beers , pos\n",
            "This is my best work , pos\n",
            "What an awesome view , pos\n",
            "\n",
            "Dataset is split into Training and Testing samples\n",
            "Total training instances : 13\n",
            "Total testing instances : 5\n",
            "\n",
            "Total features extracted using CountVectorizer: 46\n",
            "\n",
            "Features for first 5 training instances are listed below\n",
            "   about  am  amazing  an  and  awesome  bad  beers  can  dance  ...  these  \\\n",
            "0      0   0        0   0    0        0    0      0    0      0  ...      0   \n",
            "1      0   1        0   0    1        0    0      0    0      0  ...      0   \n",
            "2      0   1        0   0    0        0    0      0    0      0  ...      0   \n",
            "3      0   0        0   0    0        0    0      0    0      0  ...      0   \n",
            "4      0   0        0   0    0        0    0      0    0      1  ...      0   \n",
            "\n",
            "   this  tired  to  today  very  view  went  what  with  \n",
            "0     0      0   0      0     0     0     0     0     0  \n",
            "1     1      1   0      0     0     0     0     0     0  \n",
            "2     1      1   0      0     0     0     0     0     0  \n",
            "3     1      0   0      0     0     0     0     0     0  \n",
            "4     0      0   1      0     0     0     0     0     0  \n",
            "\n",
            "[5 rows x 46 columns]\n",
            "\n",
            "Classstification results of testing samples are given below\n",
            "I love this sandwich -> neg \n",
            "This is an awesome place -> pos \n",
            "This is my best work -> neg \n",
            "My boss is horrible -> neg \n",
            "We will have good fun tomorrow -> pos \n",
            "\n",
            "Accuracy metrics\n",
            "Accuracy of the classifer is 0.6\n",
            "Recall : 0.5 \n",
            "Precison : 1.0\n",
            "Confusion matrix\n",
            "[[1 0]\n",
            " [2 2]]\n"
          ]
        }
      ]
    }
  ]
}